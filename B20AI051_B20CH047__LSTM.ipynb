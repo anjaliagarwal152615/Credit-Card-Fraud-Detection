{
  "nbformat": 4,
  "nbformat_minor": 0,
  "metadata": {
    "colab": {
      "provenance": []
    },
    "kernelspec": {
      "display_name": "Python 3",
      "name": "python3"
    },
    "language_info": {
      "name": "python"
    },
    "accelerator": "GPU",
    "gpuClass": "standard"
  },
  "cells": [
    {
      "cell_type": "code",
      "metadata": {
        "colab": {
          "base_uri": "https://localhost:8080/"
        },
        "id": "PLiG993Yxx3G",
        "outputId": "7d37601f-d2b9-46b8-9f18-5263d0970c4a"
      },
      "source": [
        "from google.colab import drive\n",
        "drive.mount('/content/gdrive')\n",
        "# %cd gdrive/My Drive/Attention lstm implementation"
      ],
      "execution_count": null,
      "outputs": [
        {
          "output_type": "stream",
          "name": "stdout",
          "text": [
            "Drive already mounted at /content/gdrive; to attempt to forcibly remount, call drive.mount(\"/content/gdrive\", force_remount=True).\n"
          ]
        }
      ]
    },
    {
      "cell_type": "code",
      "metadata": {
        "id": "gRu9kpkYyztz"
      },
      "source": [
        "import pandas as pd\n",
        "import sklearn.metrics as metrique\n",
        "from pandas import Series\n",
        "from sklearn.preprocessing import StandardScaler, MinMaxScaler\n",
        "from matplotlib import pyplot\n",
        "from sklearn.model_selection import train_test_split\n",
        "import numpy as np\n",
        "from keras.callbacks import EarlyStopping\n",
        "from keras.utils import np_utils\n",
        "from keras.callbacks import ModelCheckpoint\n",
        "from sklearn.metrics import accuracy_score\n",
        "from sklearn.metrics import classification_report, confusion_matrix\n",
        "from keras.models import Sequential\n",
        "from keras.utils import np_utils\n",
        "from keras.layers import LSTM, Dense, Embedding, Dropout,Input, Attention, Layer, Concatenate, Permute, Dot, Multiply, Flatten\n",
        "from keras.layers import RepeatVector, Dense, Activation, Lambda\n",
        "from keras.models import Sequential\n",
        "from keras import backend as K, regularizers, Model, metrics\n",
        "from keras.backend import cast"
      ],
      "execution_count": 6,
      "outputs": []
    },
    {
      "cell_type": "code",
      "source": [
        "from google.colab import drive\n",
        "drive.mount('/content/drive')"
      ],
      "metadata": {
        "colab": {
          "base_uri": "https://localhost:8080/"
        },
        "id": "V2UDeSagpFjb",
        "outputId": "b6f64e9b-e4d2-42ca-88fd-69158f8539ee"
      },
      "execution_count": null,
      "outputs": [
        {
          "output_type": "stream",
          "name": "stdout",
          "text": [
            "Drive already mounted at /content/drive; to attempt to forcibly remount, call drive.mount(\"/content/drive\", force_remount=True).\n"
          ]
        }
      ]
    },
    {
      "cell_type": "code",
      "metadata": {
        "id": "Mlth1eViyz_p"
      },
      "source": [
        "data = pd.read_csv('/content/drive/MyDrive/creditcard.csv', na_filter=True)\n",
        "col_del = ['Time' ,'V5', 'V6', 'V7', 'V8', 'V9','V13','V15', 'V16',  'V18', 'V19', 'V20','V21', 'V22', 'V23', 'V24', 'V25', 'V26', 'V27', 'V28', 'Amount']"
      ],
      "execution_count": 7,
      "outputs": []
    },
    {
      "cell_type": "code",
      "metadata": {
        "id": "0D1roi0fy9hN",
        "colab": {
          "base_uri": "https://localhost:8080/"
        },
        "outputId": "cf7d67f2-20ba-4627-9ca8-54c5a996a2cf"
      },
      "source": [
        "tr_data = data.drop(col_del,axis =1)\n",
        "tr_data.shape"
      ],
      "execution_count": 8,
      "outputs": [
        {
          "output_type": "execute_result",
          "data": {
            "text/plain": [
              "(284807, 10)"
            ]
          },
          "metadata": {},
          "execution_count": 8
        }
      ]
    },
    {
      "cell_type": "code",
      "metadata": {
        "id": "SFjcDF3s2QId"
      },
      "source": [
        "X = tr_data.drop(['Class'], axis = 'columns')\n",
        "Label_Data = tr_data['Class']"
      ],
      "execution_count": 9,
      "outputs": []
    },
    {
      "cell_type": "code",
      "metadata": {
        "id": "9lP_i3psy9y6",
        "colab": {
          "base_uri": "https://localhost:8080/"
        },
        "outputId": "0c4ea9a1-4bbd-4801-9e9c-fd401d8bf10c"
      },
      "source": [
        "# Generate and plot imbalanced classification dataset\n",
        "from collections import Counter\n",
        "from matplotlib import pyplot\n",
        "from numpy import where\n",
        "# summarize class distribution\n",
        "counter = Counter(tr_data['Class'])\n",
        "print(counter)\n",
        "# scatter plot of examples by class label\n",
        "for label, _ in counter.items():\n",
        "\trow_ix = where(tr_data['Class'] == label)[0]"
      ],
      "execution_count": 10,
      "outputs": [
        {
          "output_type": "stream",
          "name": "stdout",
          "text": [
            "Counter({0: 284315, 1: 492})\n"
          ]
        }
      ]
    },
    {
      "cell_type": "code",
      "metadata": {
        "id": "o4GOSe4tzcTv",
        "colab": {
          "base_uri": "https://localhost:8080/"
        },
        "outputId": "900973e1-8b1d-49b8-e3c0-7679c9f68c21"
      },
      "source": [
        "# transform the dataset\n",
        "from imblearn.over_sampling import SMOTE\n",
        "oversample = SMOTE()\n",
        "X_r, y = oversample.fit_resample(X, tr_data['Class'])\n",
        "# summarize the new class distribution\n",
        "counter = Counter(y)\n",
        "print(counter)\n",
        "# scatter plot of examples by class label\n",
        "for label, _ in counter.items():\n",
        "\trow_ix = where(y == label)[0]"
      ],
      "execution_count": 11,
      "outputs": [
        {
          "output_type": "stream",
          "name": "stdout",
          "text": [
            "Counter({0: 284315, 1: 284315})\n"
          ]
        }
      ]
    },
    {
      "cell_type": "code",
      "metadata": {
        "id": "rz6JhCFr0Iin"
      },
      "source": [
        "from sklearn.preprocessing import StandardScaler\n",
        "## Standardizing the data\n",
        "X_r2 = StandardScaler().fit_transform(X_r)"
      ],
      "execution_count": 12,
      "outputs": []
    },
    {
      "cell_type": "code",
      "metadata": {
        "id": "t7l5EpLY0IqL"
      },
      "source": [
        "X_train,X_test,y_train,y_test = train_test_split(X_r2, y, test_size=0.3)"
      ],
      "execution_count": 13,
      "outputs": []
    },
    {
      "cell_type": "code",
      "metadata": {
        "id": "a4uohF3BPMIU",
        "colab": {
          "base_uri": "https://localhost:8080/"
        },
        "outputId": "93d7c2de-9911-4703-9d76-3764819f1177"
      },
      "source": [
        "X_train.shape"
      ],
      "execution_count": 14,
      "outputs": [
        {
          "output_type": "execute_result",
          "data": {
            "text/plain": [
              "(398041, 9)"
            ]
          },
          "metadata": {},
          "execution_count": 14
        }
      ]
    },
    {
      "cell_type": "code",
      "metadata": {
        "id": "4OaLUwRhPPhW",
        "colab": {
          "base_uri": "https://localhost:8080/"
        },
        "outputId": "2fccaed9-9ecc-4a28-d99a-b3a689f8edc2"
      },
      "source": [
        "X_test.shape"
      ],
      "execution_count": 15,
      "outputs": [
        {
          "output_type": "execute_result",
          "data": {
            "text/plain": [
              "(170589, 9)"
            ]
          },
          "metadata": {},
          "execution_count": 15
        }
      ]
    },
    {
      "cell_type": "code",
      "metadata": {
        "id": "eN6iBsXh0UJj"
      },
      "source": [
        "# # design network\n",
        "# np.random.seed(7)\n",
        "\n",
        "# # X_train et X_val sont des dataframe qui contient les features\n",
        "# train_LSTM_X=X_train\n",
        "# val_LSTM_X=X_test\n",
        "\n",
        "# ## Reshape input to be 3D [samples, timesteps, features] (format requis par LSTM)\n",
        "# train_LSTM_X = train_LSTM_X.reshape((train_LSTM_X.shape[0], 1, train_LSTM_X.shape[1]))\n",
        "# val_LSTM_X = val_LSTM_X.reshape((val_LSTM_X.shape[0], 1, val_LSTM_X.shape[1]))\n",
        "\n",
        "# ## Recuperation des labels\n",
        "# train_LSTM_y = y_train\n",
        "# val_LSTM_y = y_test\n",
        "\n",
        "# design network\n",
        "np.random.seed(10)\n",
        "n_features = 9\n",
        "\n",
        "# X_train et X_val sont des dataframe qui contient les features\n",
        "train_LSTM_X = X_train\n",
        "val_LSTM_X = X_test\n",
        "\n",
        "## Reshape input to be 3D [samples, timesteps, features] (format requis par LSTM)\n",
        "train_LSTM_X = train_LSTM_X.reshape((train_LSTM_X.shape[0], 1, train_LSTM_X.shape[1]))\n",
        "val_LSTM_X = val_LSTM_X.reshape((val_LSTM_X.shape[0], 1, val_LSTM_X.shape[1]))\n",
        "\n",
        "## Recuperation des labels\n",
        "train_LSTM_y = y_train\n",
        "val_LSTM_y = y_test \n",
        "\n",
        "# ## Define the model architecture\n",
        "# inputs = Input(shape=(1, n_features))\n",
        "# x1 = LSTM(50, dropout=0.3, recurrent_dropout=0.2, input_shape=(1, n_features))(inputs)\n",
        "# x2 = LSTM(50, dropout=0.3, recurrent_dropout=0.2)(x1)\n",
        "# outputs = Dense(1, activation='sigmoid')(x2)\n",
        "# model = Model(inputs, outputs)\n"
      ],
      "execution_count": 16,
      "outputs": []
    },
    {
      "cell_type": "code",
      "metadata": {
        "id": "XOlGVbif0U-i",
        "colab": {
          "base_uri": "https://localhost:8080/"
        },
        "outputId": "c5cd4c85-7e0c-4394-e5fc-904d2ad85017"
      },
      "source": [
        "inputs=Input((1,9))\n",
        "x1 = LSTM(50, dropout=0.3, recurrent_dropout=0.2, return_sequences=True)(inputs)\n",
        "x2 = LSTM(50, dropout=0.3, recurrent_dropout=0.2)(x1)\n",
        "outputs = Dense(1, activation='sigmoid')(x2)\n",
        "model = Model(inputs, outputs)\n"
      ],
      "execution_count": null,
      "outputs": [
        {
          "output_type": "stream",
          "name": "stderr",
          "text": [
            "WARNING:tensorflow:Layer lstm_12 will not use cuDNN kernels since it doesn't meet the criteria. It will use a generic GPU kernel as fallback when running on GPU.\n",
            "WARNING:tensorflow:Layer lstm_13 will not use cuDNN kernels since it doesn't meet the criteria. It will use a generic GPU kernel as fallback when running on GPU.\n"
          ]
        }
      ]
    },
    {
      "cell_type": "code",
      "metadata": {
        "id": "rw1IxnEn0i7d"
      },
      "source": [
        "model.compile(loss='binary_crossentropy', optimizer='adam', metrics=['accuracy'])"
      ],
      "execution_count": null,
      "outputs": []
    },
    {
      "cell_type": "code",
      "metadata": {
        "id": "_jVAHW330VTL",
        "colab": {
          "base_uri": "https://localhost:8080/"
        },
        "outputId": "d6a4c0c1-6212-4db4-f988-d0a072c07e53"
      },
      "source": [
        "history=model.fit(train_LSTM_X, train_LSTM_y,epochs=100,batch_size=20000, validation_data=(val_LSTM_X, val_LSTM_y))"
      ],
      "execution_count": null,
      "outputs": [
        {
          "output_type": "stream",
          "name": "stdout",
          "text": [
            "Epoch 1/100\n",
            "20/20 [==============================] - 12s 58ms/step - loss: 0.6703 - accuracy: 0.8235 - val_loss: 0.6350 - val_accuracy: 0.8858\n",
            "Epoch 2/100\n",
            "20/20 [==============================] - 1s 27ms/step - loss: 0.5916 - accuracy: 0.8769 - val_loss: 0.5211 - val_accuracy: 0.8882\n",
            "Epoch 3/100\n",
            "20/20 [==============================] - 1s 51ms/step - loss: 0.4674 - accuracy: 0.8789 - val_loss: 0.3902 - val_accuracy: 0.8926\n",
            "Epoch 4/100\n",
            "20/20 [==============================] - 1s 29ms/step - loss: 0.3560 - accuracy: 0.8887 - val_loss: 0.3019 - val_accuracy: 0.9029\n",
            "Epoch 5/100\n",
            "20/20 [==============================] - 1s 25ms/step - loss: 0.2945 - accuracy: 0.9012 - val_loss: 0.2607 - val_accuracy: 0.9098\n",
            "Epoch 6/100\n",
            "20/20 [==============================] - 1s 28ms/step - loss: 0.2636 - accuracy: 0.9092 - val_loss: 0.2334 - val_accuracy: 0.9112\n",
            "Epoch 7/100\n",
            "20/20 [==============================] - 1s 26ms/step - loss: 0.2451 - accuracy: 0.9138 - val_loss: 0.2150 - val_accuracy: 0.9178\n",
            "Epoch 8/100\n",
            "20/20 [==============================] - 1s 34ms/step - loss: 0.2335 - accuracy: 0.9162 - val_loss: 0.2026 - val_accuracy: 0.9266\n",
            "Epoch 9/100\n",
            "20/20 [==============================] - 1s 57ms/step - loss: 0.2261 - accuracy: 0.9183 - val_loss: 0.1947 - val_accuracy: 0.9283\n",
            "Epoch 10/100\n",
            "20/20 [==============================] - 1s 60ms/step - loss: 0.2212 - accuracy: 0.9189 - val_loss: 0.1898 - val_accuracy: 0.9291\n",
            "Epoch 11/100\n",
            "20/20 [==============================] - 1s 57ms/step - loss: 0.2168 - accuracy: 0.9198 - val_loss: 0.1866 - val_accuracy: 0.9302\n",
            "Epoch 12/100\n",
            "20/20 [==============================] - 1s 38ms/step - loss: 0.2139 - accuracy: 0.9202 - val_loss: 0.1843 - val_accuracy: 0.9306\n",
            "Epoch 13/100\n",
            "20/20 [==============================] - 1s 29ms/step - loss: 0.2114 - accuracy: 0.9208 - val_loss: 0.1821 - val_accuracy: 0.9310\n",
            "Epoch 14/100\n",
            "20/20 [==============================] - 1s 27ms/step - loss: 0.2094 - accuracy: 0.9212 - val_loss: 0.1807 - val_accuracy: 0.9319\n",
            "Epoch 15/100\n",
            "20/20 [==============================] - 1s 29ms/step - loss: 0.2068 - accuracy: 0.9219 - val_loss: 0.1790 - val_accuracy: 0.9329\n",
            "Epoch 16/100\n",
            "20/20 [==============================] - 1s 27ms/step - loss: 0.2047 - accuracy: 0.9230 - val_loss: 0.1774 - val_accuracy: 0.9339\n",
            "Epoch 17/100\n",
            "20/20 [==============================] - 1s 28ms/step - loss: 0.2035 - accuracy: 0.9229 - val_loss: 0.1764 - val_accuracy: 0.9342\n",
            "Epoch 18/100\n",
            "20/20 [==============================] - 1s 25ms/step - loss: 0.2011 - accuracy: 0.9245 - val_loss: 0.1747 - val_accuracy: 0.9345\n",
            "Epoch 19/100\n",
            "20/20 [==============================] - 1s 28ms/step - loss: 0.1991 - accuracy: 0.9250 - val_loss: 0.1739 - val_accuracy: 0.9347\n",
            "Epoch 20/100\n",
            "20/20 [==============================] - 1s 26ms/step - loss: 0.1976 - accuracy: 0.9257 - val_loss: 0.1725 - val_accuracy: 0.9350\n",
            "Epoch 21/100\n",
            "20/20 [==============================] - 1s 27ms/step - loss: 0.1961 - accuracy: 0.9267 - val_loss: 0.1717 - val_accuracy: 0.9352\n",
            "Epoch 22/100\n",
            "20/20 [==============================] - 1s 27ms/step - loss: 0.1953 - accuracy: 0.9268 - val_loss: 0.1711 - val_accuracy: 0.9353\n",
            "Epoch 23/100\n",
            "20/20 [==============================] - 1s 26ms/step - loss: 0.1944 - accuracy: 0.9270 - val_loss: 0.1705 - val_accuracy: 0.9354\n",
            "Epoch 24/100\n",
            "20/20 [==============================] - 1s 27ms/step - loss: 0.1934 - accuracy: 0.9277 - val_loss: 0.1698 - val_accuracy: 0.9356\n",
            "Epoch 25/100\n",
            "20/20 [==============================] - 1s 25ms/step - loss: 0.1926 - accuracy: 0.9278 - val_loss: 0.1692 - val_accuracy: 0.9358\n",
            "Epoch 26/100\n",
            "20/20 [==============================] - 1s 28ms/step - loss: 0.1917 - accuracy: 0.9280 - val_loss: 0.1687 - val_accuracy: 0.9359\n",
            "Epoch 27/100\n",
            "20/20 [==============================] - 1s 27ms/step - loss: 0.1914 - accuracy: 0.9285 - val_loss: 0.1691 - val_accuracy: 0.9357\n",
            "Epoch 28/100\n",
            "20/20 [==============================] - 1s 28ms/step - loss: 0.1909 - accuracy: 0.9281 - val_loss: 0.1688 - val_accuracy: 0.9358\n",
            "Epoch 29/100\n",
            "20/20 [==============================] - 1s 26ms/step - loss: 0.1899 - accuracy: 0.9290 - val_loss: 0.1679 - val_accuracy: 0.9359\n",
            "Epoch 30/100\n",
            "20/20 [==============================] - 1s 31ms/step - loss: 0.1901 - accuracy: 0.9288 - val_loss: 0.1681 - val_accuracy: 0.9359\n",
            "Epoch 31/100\n",
            "20/20 [==============================] - 1s 55ms/step - loss: 0.1893 - accuracy: 0.9289 - val_loss: 0.1678 - val_accuracy: 0.9359\n",
            "Epoch 32/100\n",
            "20/20 [==============================] - 1s 54ms/step - loss: 0.1886 - accuracy: 0.9291 - val_loss: 0.1671 - val_accuracy: 0.9360\n",
            "Epoch 33/100\n",
            "20/20 [==============================] - 1s 55ms/step - loss: 0.1888 - accuracy: 0.9291 - val_loss: 0.1678 - val_accuracy: 0.9359\n",
            "Epoch 34/100\n",
            "20/20 [==============================] - 1s 54ms/step - loss: 0.1878 - accuracy: 0.9295 - val_loss: 0.1668 - val_accuracy: 0.9360\n",
            "Epoch 35/100\n",
            "20/20 [==============================] - 1s 29ms/step - loss: 0.1876 - accuracy: 0.9295 - val_loss: 0.1668 - val_accuracy: 0.9359\n",
            "Epoch 36/100\n",
            "20/20 [==============================] - 1s 27ms/step - loss: 0.1876 - accuracy: 0.9295 - val_loss: 0.1670 - val_accuracy: 0.9360\n",
            "Epoch 37/100\n",
            "20/20 [==============================] - 1s 28ms/step - loss: 0.1871 - accuracy: 0.9299 - val_loss: 0.1666 - val_accuracy: 0.9359\n",
            "Epoch 38/100\n",
            "20/20 [==============================] - 1s 28ms/step - loss: 0.1876 - accuracy: 0.9297 - val_loss: 0.1666 - val_accuracy: 0.9360\n",
            "Epoch 39/100\n",
            "20/20 [==============================] - 1s 27ms/step - loss: 0.1869 - accuracy: 0.9299 - val_loss: 0.1666 - val_accuracy: 0.9359\n",
            "Epoch 40/100\n",
            "20/20 [==============================] - 1s 27ms/step - loss: 0.1866 - accuracy: 0.9300 - val_loss: 0.1667 - val_accuracy: 0.9359\n",
            "Epoch 41/100\n",
            "20/20 [==============================] - 1s 56ms/step - loss: 0.1866 - accuracy: 0.9300 - val_loss: 0.1666 - val_accuracy: 0.9360\n",
            "Epoch 42/100\n",
            "20/20 [==============================] - 1s 51ms/step - loss: 0.1861 - accuracy: 0.9304 - val_loss: 0.1660 - val_accuracy: 0.9360\n",
            "Epoch 43/100\n",
            "20/20 [==============================] - 1s 28ms/step - loss: 0.1861 - accuracy: 0.9301 - val_loss: 0.1659 - val_accuracy: 0.9360\n",
            "Epoch 44/100\n",
            "20/20 [==============================] - 1s 27ms/step - loss: 0.1857 - accuracy: 0.9303 - val_loss: 0.1663 - val_accuracy: 0.9360\n",
            "Epoch 45/100\n",
            "20/20 [==============================] - 1s 28ms/step - loss: 0.1853 - accuracy: 0.9301 - val_loss: 0.1656 - val_accuracy: 0.9361\n",
            "Epoch 46/100\n",
            "20/20 [==============================] - 1s 26ms/step - loss: 0.1853 - accuracy: 0.9304 - val_loss: 0.1658 - val_accuracy: 0.9360\n",
            "Epoch 47/100\n",
            "20/20 [==============================] - 1s 28ms/step - loss: 0.1852 - accuracy: 0.9305 - val_loss: 0.1654 - val_accuracy: 0.9361\n",
            "Epoch 48/100\n",
            "20/20 [==============================] - 1s 26ms/step - loss: 0.1851 - accuracy: 0.9305 - val_loss: 0.1653 - val_accuracy: 0.9361\n",
            "Epoch 49/100\n",
            "20/20 [==============================] - 1s 27ms/step - loss: 0.1846 - accuracy: 0.9307 - val_loss: 0.1655 - val_accuracy: 0.9360\n",
            "Epoch 50/100\n",
            "20/20 [==============================] - 1s 27ms/step - loss: 0.1840 - accuracy: 0.9308 - val_loss: 0.1647 - val_accuracy: 0.9362\n",
            "Epoch 51/100\n",
            "20/20 [==============================] - 1s 38ms/step - loss: 0.1842 - accuracy: 0.9309 - val_loss: 0.1651 - val_accuracy: 0.9361\n",
            "Epoch 52/100\n",
            "20/20 [==============================] - 1s 57ms/step - loss: 0.1845 - accuracy: 0.9307 - val_loss: 0.1647 - val_accuracy: 0.9361\n",
            "Epoch 53/100\n",
            "20/20 [==============================] - 1s 55ms/step - loss: 0.1837 - accuracy: 0.9310 - val_loss: 0.1646 - val_accuracy: 0.9361\n",
            "Epoch 54/100\n",
            "20/20 [==============================] - 1s 58ms/step - loss: 0.1836 - accuracy: 0.9307 - val_loss: 0.1644 - val_accuracy: 0.9362\n",
            "Epoch 55/100\n",
            "20/20 [==============================] - 1s 39ms/step - loss: 0.1840 - accuracy: 0.9309 - val_loss: 0.1644 - val_accuracy: 0.9362\n",
            "Epoch 56/100\n",
            "20/20 [==============================] - 1s 29ms/step - loss: 0.1828 - accuracy: 0.9308 - val_loss: 0.1642 - val_accuracy: 0.9362\n",
            "Epoch 57/100\n",
            "20/20 [==============================] - 1s 27ms/step - loss: 0.1829 - accuracy: 0.9308 - val_loss: 0.1637 - val_accuracy: 0.9362\n",
            "Epoch 58/100\n",
            "20/20 [==============================] - 1s 27ms/step - loss: 0.1831 - accuracy: 0.9310 - val_loss: 0.1640 - val_accuracy: 0.9362\n",
            "Epoch 59/100\n",
            "20/20 [==============================] - 1s 27ms/step - loss: 0.1827 - accuracy: 0.9311 - val_loss: 0.1636 - val_accuracy: 0.9362\n",
            "Epoch 60/100\n",
            "20/20 [==============================] - 1s 27ms/step - loss: 0.1820 - accuracy: 0.9312 - val_loss: 0.1634 - val_accuracy: 0.9363\n",
            "Epoch 61/100\n",
            "20/20 [==============================] - 1s 28ms/step - loss: 0.1824 - accuracy: 0.9313 - val_loss: 0.1629 - val_accuracy: 0.9363\n",
            "Epoch 62/100\n",
            "20/20 [==============================] - 1s 30ms/step - loss: 0.1821 - accuracy: 0.9311 - val_loss: 0.1633 - val_accuracy: 0.9363\n",
            "Epoch 63/100\n",
            "20/20 [==============================] - 1s 27ms/step - loss: 0.1817 - accuracy: 0.9313 - val_loss: 0.1628 - val_accuracy: 0.9363\n",
            "Epoch 64/100\n",
            "20/20 [==============================] - 1s 26ms/step - loss: 0.1818 - accuracy: 0.9314 - val_loss: 0.1628 - val_accuracy: 0.9364\n",
            "Epoch 65/100\n",
            "20/20 [==============================] - 1s 28ms/step - loss: 0.1810 - accuracy: 0.9316 - val_loss: 0.1625 - val_accuracy: 0.9364\n",
            "Epoch 66/100\n",
            "20/20 [==============================] - 1s 26ms/step - loss: 0.1813 - accuracy: 0.9316 - val_loss: 0.1622 - val_accuracy: 0.9365\n",
            "Epoch 67/100\n",
            "20/20 [==============================] - 1s 27ms/step - loss: 0.1812 - accuracy: 0.9315 - val_loss: 0.1621 - val_accuracy: 0.9366\n",
            "Epoch 68/100\n",
            "20/20 [==============================] - 1s 26ms/step - loss: 0.1808 - accuracy: 0.9315 - val_loss: 0.1622 - val_accuracy: 0.9366\n",
            "Epoch 69/100\n",
            "20/20 [==============================] - 1s 27ms/step - loss: 0.1809 - accuracy: 0.9318 - val_loss: 0.1615 - val_accuracy: 0.9367\n",
            "Epoch 70/100\n",
            "20/20 [==============================] - 1s 25ms/step - loss: 0.1808 - accuracy: 0.9315 - val_loss: 0.1611 - val_accuracy: 0.9367\n",
            "Epoch 71/100\n",
            "20/20 [==============================] - 1s 28ms/step - loss: 0.1804 - accuracy: 0.9319 - val_loss: 0.1615 - val_accuracy: 0.9367\n",
            "Epoch 72/100\n",
            "20/20 [==============================] - 1s 26ms/step - loss: 0.1805 - accuracy: 0.9314 - val_loss: 0.1613 - val_accuracy: 0.9368\n",
            "Epoch 73/100\n",
            "20/20 [==============================] - 1s 43ms/step - loss: 0.1798 - accuracy: 0.9318 - val_loss: 0.1612 - val_accuracy: 0.9367\n",
            "Epoch 74/100\n",
            "20/20 [==============================] - 1s 57ms/step - loss: 0.1799 - accuracy: 0.9320 - val_loss: 0.1610 - val_accuracy: 0.9368\n",
            "Epoch 75/100\n",
            "20/20 [==============================] - 1s 59ms/step - loss: 0.1796 - accuracy: 0.9319 - val_loss: 0.1614 - val_accuracy: 0.9369\n",
            "Epoch 76/100\n",
            "20/20 [==============================] - 1s 60ms/step - loss: 0.1796 - accuracy: 0.9314 - val_loss: 0.1608 - val_accuracy: 0.9369\n",
            "Epoch 77/100\n",
            "20/20 [==============================] - 1s 33ms/step - loss: 0.1790 - accuracy: 0.9319 - val_loss: 0.1598 - val_accuracy: 0.9368\n",
            "Epoch 78/100\n",
            "20/20 [==============================] - 1s 30ms/step - loss: 0.1791 - accuracy: 0.9318 - val_loss: 0.1597 - val_accuracy: 0.9368\n",
            "Epoch 79/100\n",
            "20/20 [==============================] - 1s 28ms/step - loss: 0.1784 - accuracy: 0.9322 - val_loss: 0.1592 - val_accuracy: 0.9370\n",
            "Epoch 80/100\n",
            "20/20 [==============================] - 1s 27ms/step - loss: 0.1788 - accuracy: 0.9322 - val_loss: 0.1597 - val_accuracy: 0.9369\n",
            "Epoch 81/100\n",
            "20/20 [==============================] - 1s 25ms/step - loss: 0.1787 - accuracy: 0.9321 - val_loss: 0.1595 - val_accuracy: 0.9369\n",
            "Epoch 82/100\n",
            "20/20 [==============================] - 1s 28ms/step - loss: 0.1784 - accuracy: 0.9324 - val_loss: 0.1595 - val_accuracy: 0.9369\n",
            "Epoch 83/100\n",
            "20/20 [==============================] - 1s 27ms/step - loss: 0.1782 - accuracy: 0.9321 - val_loss: 0.1597 - val_accuracy: 0.9369\n",
            "Epoch 84/100\n",
            "20/20 [==============================] - 1s 25ms/step - loss: 0.1771 - accuracy: 0.9321 - val_loss: 0.1593 - val_accuracy: 0.9370\n",
            "Epoch 85/100\n",
            "20/20 [==============================] - 1s 27ms/step - loss: 0.1777 - accuracy: 0.9321 - val_loss: 0.1587 - val_accuracy: 0.9370\n",
            "Epoch 86/100\n",
            "20/20 [==============================] - 1s 26ms/step - loss: 0.1777 - accuracy: 0.9323 - val_loss: 0.1587 - val_accuracy: 0.9370\n",
            "Epoch 87/100\n",
            "20/20 [==============================] - 1s 29ms/step - loss: 0.1775 - accuracy: 0.9321 - val_loss: 0.1588 - val_accuracy: 0.9371\n",
            "Epoch 88/100\n",
            "20/20 [==============================] - 1s 26ms/step - loss: 0.1772 - accuracy: 0.9322 - val_loss: 0.1582 - val_accuracy: 0.9371\n",
            "Epoch 89/100\n",
            "20/20 [==============================] - 1s 29ms/step - loss: 0.1770 - accuracy: 0.9324 - val_loss: 0.1584 - val_accuracy: 0.9371\n",
            "Epoch 90/100\n",
            "20/20 [==============================] - 1s 26ms/step - loss: 0.1768 - accuracy: 0.9326 - val_loss: 0.1575 - val_accuracy: 0.9372\n",
            "Epoch 91/100\n",
            "20/20 [==============================] - 1s 28ms/step - loss: 0.1764 - accuracy: 0.9323 - val_loss: 0.1577 - val_accuracy: 0.9370\n",
            "Epoch 92/100\n",
            "20/20 [==============================] - 1s 28ms/step - loss: 0.1763 - accuracy: 0.9325 - val_loss: 0.1572 - val_accuracy: 0.9374\n",
            "Epoch 93/100\n",
            "20/20 [==============================] - 1s 28ms/step - loss: 0.1760 - accuracy: 0.9324 - val_loss: 0.1576 - val_accuracy: 0.9371\n",
            "Epoch 94/100\n",
            "20/20 [==============================] - 1s 27ms/step - loss: 0.1762 - accuracy: 0.9325 - val_loss: 0.1574 - val_accuracy: 0.9371\n",
            "Epoch 95/100\n",
            "20/20 [==============================] - 1s 45ms/step - loss: 0.1759 - accuracy: 0.9327 - val_loss: 0.1573 - val_accuracy: 0.9372\n",
            "Epoch 96/100\n",
            "20/20 [==============================] - 1s 59ms/step - loss: 0.1756 - accuracy: 0.9324 - val_loss: 0.1579 - val_accuracy: 0.9372\n",
            "Epoch 97/100\n",
            "20/20 [==============================] - 1s 55ms/step - loss: 0.1750 - accuracy: 0.9327 - val_loss: 0.1573 - val_accuracy: 0.9372\n",
            "Epoch 98/100\n",
            "20/20 [==============================] - 1s 59ms/step - loss: 0.1749 - accuracy: 0.9327 - val_loss: 0.1568 - val_accuracy: 0.9374\n",
            "Epoch 99/100\n",
            "20/20 [==============================] - 1s 38ms/step - loss: 0.1748 - accuracy: 0.9328 - val_loss: 0.1574 - val_accuracy: 0.9372\n",
            "Epoch 100/100\n",
            "20/20 [==============================] - 1s 28ms/step - loss: 0.1741 - accuracy: 0.9330 - val_loss: 0.1570 - val_accuracy: 0.9374\n"
          ]
        }
      ]
    },
    {
      "cell_type": "code",
      "metadata": {
        "colab": {
          "base_uri": "https://localhost:8080/"
        },
        "id": "gLCxQgUtIV6A",
        "outputId": "c501ffd9-813c-41af-f4e9-76faa9571b7a"
      },
      "source": [
        "# save model and architecture to single file\n",
        "model.save('Save_Model.h5')\n",
        "print(\"Saved model to disk\")"
      ],
      "execution_count": null,
      "outputs": [
        {
          "output_type": "stream",
          "name": "stdout",
          "text": [
            "Saved model to disk\n"
          ]
        }
      ]
    },
    {
      "cell_type": "code",
      "metadata": {
        "id": "YZ58n-qPJEub",
        "colab": {
          "base_uri": "https://localhost:8080/"
        },
        "outputId": "1aa622a0-5b82-4ccf-c5d0-3686c3c3b43d"
      },
      "source": [
        "# load and evaluate a saved model\n",
        "from numpy import loadtxt\n",
        "from keras.models import load_model\n",
        " \n",
        "# load model\n",
        "model = load_model('Save_Model.h5')\n",
        "# summarize model.\n",
        "model.summary()"
      ],
      "execution_count": null,
      "outputs": [
        {
          "output_type": "stream",
          "name": "stderr",
          "text": [
            "WARNING:tensorflow:Layer lstm_12 will not use cuDNN kernels since it doesn't meet the criteria. It will use a generic GPU kernel as fallback when running on GPU.\n",
            "WARNING:tensorflow:Layer lstm_13 will not use cuDNN kernels since it doesn't meet the criteria. It will use a generic GPU kernel as fallback when running on GPU.\n"
          ]
        },
        {
          "output_type": "stream",
          "name": "stdout",
          "text": [
            "Model: \"model\"\n",
            "_________________________________________________________________\n",
            " Layer (type)                Output Shape              Param #   \n",
            "=================================================================\n",
            " input_7 (InputLayer)        [(None, 1, 9)]            0         \n",
            "                                                                 \n",
            " lstm_12 (LSTM)              (None, 1, 50)             12000     \n",
            "                                                                 \n",
            " lstm_13 (LSTM)              (None, 50)                20200     \n",
            "                                                                 \n",
            " dense (Dense)               (None, 1)                 51        \n",
            "                                                                 \n",
            "=================================================================\n",
            "Total params: 32,251\n",
            "Trainable params: 32,251\n",
            "Non-trainable params: 0\n",
            "_________________________________________________________________\n"
          ]
        }
      ]
    },
    {
      "cell_type": "code",
      "metadata": {
        "colab": {
          "base_uri": "https://localhost:8080/"
        },
        "id": "U6xqSOxSJHd8",
        "outputId": "1efdd9ce-bea9-4a31-f189-5f6d07cc3d24"
      },
      "source": [
        "# evaluate the model\n",
        "_, train_acc = model.evaluate(train_LSTM_X, train_LSTM_y, verbose=0)\n",
        "_, test_acc = model.evaluate(val_LSTM_X, val_LSTM_y, verbose=0)\n",
        "print('Train: %.3f, Test: %.3f' % (train_acc, test_acc))"
      ],
      "execution_count": null,
      "outputs": [
        {
          "output_type": "stream",
          "name": "stdout",
          "text": [
            "Train: 0.937, Test: 0.937\n"
          ]
        }
      ]
    },
    {
      "cell_type": "code",
      "metadata": {
        "colab": {
          "base_uri": "https://localhost:8080/",
          "height": 452
        },
        "id": "hYW2snaetW2W",
        "outputId": "2c92856e-d3c7-4300-a16a-83e01527914d"
      },
      "source": [
        "# plot loss during training\n",
        "pyplot.subplot(211)\n",
        "pyplot.title('Loss')\n",
        "pyplot.plot(history.history['loss'], label='train')\n",
        "pyplot.plot(history.history['val_loss'], label='test')\n",
        "pyplot.legend()\n",
        "# plot accuracy during training\n",
        "pyplot.subplot(212)\n",
        "pyplot.title('Accuracy')\n",
        "pyplot.plot(history.history['accuracy'], label='train')\n",
        "pyplot.plot(history.history['val_accuracy'], label='test')\n",
        "pyplot.legend()\n",
        "pyplot.show()"
      ],
      "execution_count": null,
      "outputs": [
        {
          "output_type": "display_data",
          "data": {
            "text/plain": [
              "<Figure size 640x480 with 2 Axes>"
            ],
            "image/png": "[encoded data removed]"
          },
          "metadata": {}
        }
      ]
    },
    {
      "cell_type": "code",
      "metadata": {
        "id": "lUAD5FIS3Z1I"
      },
      "source": [
        "# predict probabilities for test set\n",
        "yhat_probs = model.predict(val_LSTM_X, verbose=0)\n",
        "# reduce to 1d array\n",
        "yhat_probs = yhat_probs[:, 0]"
      ],
      "execution_count": null,
      "outputs": []
    },
    {
      "cell_type": "code",
      "source": [
        "yhat_binary = (yhat_probs > 0.5).astype(int)"
      ],
      "metadata": {
        "id": "5BlOlCNr4Mpe"
      },
      "execution_count": null,
      "outputs": []
    },
    {
      "cell_type": "code",
      "metadata": {
        "colab": {
          "base_uri": "https://localhost:8080/"
        },
        "id": "eiN2cjwX4Dzp",
        "outputId": "216bc306-b79a-4c7c-a3f4-35482832cf25"
      },
      "source": [
        "# demonstration of calculating metrics for a neural network model using sklearn\n",
        "from sklearn.metrics import accuracy_score\n",
        "from sklearn.metrics import precision_score\n",
        "from sklearn.metrics import recall_score\n",
        "from sklearn.metrics import confusion_matrix\n",
        "\n",
        "# accuracy: (tp + tn) / (p + n)\n",
        "accuracy = accuracy_score(val_LSTM_y, yhat_binary)\n",
        "print('Accuracy: %f' % accuracy)\n",
        "# precision tp / (tp + fp)\n",
        "precision = precision_score(val_LSTM_y, yhat_binary)\n",
        "print('Precision: %f' % precision)\n",
        "# recall: tp / (tp + fn)\n",
        "recall = recall_score(val_LSTM_y, yhat_binary)\n",
        "print('Recall: %f' % recall)\n"
      ],
      "execution_count": null,
      "outputs": [
        {
          "output_type": "stream",
          "name": "stdout",
          "text": [
            "Accuracy: 0.937388\n",
            "Precision: 0.988895\n",
            "Recall: 0.884655\n"
          ]
        }
      ]
    },
    {
      "cell_type": "code",
      "metadata": {
        "id": "02D_-hIJ4JiB"
      },
      "source": [
        "%matplotlib inline\n",
        "from sklearn.metrics import confusion_matrix\n",
        "import itertools\n",
        "import matplotlib.pyplot as plt"
      ],
      "execution_count": null,
      "outputs": []
    },
    {
      "cell_type": "code",
      "metadata": {
        "id": "D5jRpnhBCKKM"
      },
      "source": [
        "cm = confusion_matrix(y_true=val_LSTM_y, y_pred=yhat_binary)"
      ],
      "execution_count": null,
      "outputs": []
    },
    {
      "cell_type": "code",
      "metadata": {
        "id": "G6wvKPIQCKYs"
      },
      "source": [
        "def plot_confusion_matrix(cm, classes,\n",
        "                        normalize=False,\n",
        "                        title='Confusion matrix',\n",
        "                        cmap=plt.cm.Blues):\n",
        "    \"\"\"\n",
        "    This function prints and plots the confusion matrix.\n",
        "    Normalization can be applied by setting `normalize=True`.\n",
        "    \"\"\"\n",
        "    plt.imshow(cm, interpolation='nearest', cmap=cmap)\n",
        "    plt.title(title)\n",
        "    plt.colorbar()\n",
        "    tick_marks = np.arange(len(classes))\n",
        "    plt.xticks(tick_marks, classes, rotation=45)\n",
        "    plt.yticks(tick_marks, classes)\n",
        "\n",
        "    if normalize:\n",
        "        cm = cm.astype('float') / cm.sum(axis=1)[:, np.newaxis]\n",
        "        print(\"Normalized confusion matrix\")\n",
        "    else:\n",
        "        print('Confusion matrix, without normalization')\n",
        "\n",
        "    print(cm)\n",
        "\n",
        "    thresh = cm.max() / 2.\n",
        "    for i, j in itertools.product(range(cm.shape[0]), range(cm.shape[1])):\n",
        "        plt.text(j, i, cm[i, j],\n",
        "            horizontalalignment=\"center\",\n",
        "            color=\"white\" if cm[i, j] > thresh else \"black\")\n",
        "\n",
        "    plt.tight_layout()\n",
        "    plt.ylabel('True label')\n",
        "    plt.xlabel('Predicted label')\n",
        "labels = ['Normal','Fraud']"
      ],
      "execution_count": null,
      "outputs": []
    },
    {
      "cell_type": "code",
      "metadata": {
        "colab": {
          "base_uri": "https://localhost:8080/",
          "height": 560
        },
        "id": "K3CQINI1VyI8",
        "outputId": "19285032-226a-4a39-d570-7677da51a97e"
      },
      "source": [
        "plot_confusion_matrix(cm=cm, classes=labels, title='LSTM')"
      ],
      "execution_count": null,
      "outputs": [
        {
          "output_type": "stream",
          "name": "stdout",
          "text": [
            "Confusion matrix, without normalization\n",
            "[[84485   847]\n",
            " [ 9834 75423]]\n"
          ]
        },
        {
          "output_type": "display_data",
          "data": {
            "text/plain": [
              "<Figure size 640x480 with 2 Axes>"
            ],
            "image/png": "[encoded data removed]"
          },
          "metadata": {}
        }
      ]
    },
    {
      "cell_type": "code",
      "metadata": {
        "id": "9eyxl7gxDjKk"
      },
      "source": [
        "class attention(Layer):\n",
        "    def __init__(self,**kwargs):\n",
        "        super(attention,self).__init__(**kwargs)\n",
        "\n",
        "    def build(self,input_shape):\n",
        "        self.W=self.add_weight(name=\"att_weight\",shape=(input_shape[-1],1),initializer=\"normal\")\n",
        "        self.b=self.add_weight(name=\"att_bias\",shape=(input_shape[1],1),initializer=\"zeros\")        \n",
        "        super(attention, self).build(input_shape)\n",
        "\n",
        "    def call(self,x):\n",
        "        et=K.squeeze(K.tanh(K.dot(x,self.W)+self.b),axis=-1)\n",
        "        at=K.softmax(et)\n",
        "        at=K.expand_dims(at,axis=-1)\n",
        "        output=x*at\n",
        "        return K.sum(output,axis=1)\n",
        "\n",
        "    def compute_output_shape(self,input_shape):\n",
        "        return (input_shape[0],input_shape[-1])\n",
        "\n",
        "    def get_config(self):\n",
        "        return super(attention,self).get_config()"
      ],
      "execution_count": 17,
      "outputs": []
    },
    {
      "cell_type": "code",
      "metadata": {
        "id": "UdJq4u3EC_Sy",
        "colab": {
          "base_uri": "https://localhost:8080/"
        },
        "outputId": "8362f85f-645f-4cfd-d853-0671defb4b71"
      },
      "source": [
        "inputs1=Input((1,9))\n",
        "att_in=LSTM(50,return_sequences=True,dropout=0.3,recurrent_dropout=0.2)(inputs1)\n",
        "att_in_1=LSTM(50,return_sequences=True,dropout=0.3,recurrent_dropout=0.2)(att_in)\n",
        "att_out=attention()(att_in_1)\n",
        "outputs1=Dense(1,activation='sigmoid',trainable=True)(att_out)\n",
        "model1=Model(inputs1,outputs1)"
      ],
      "execution_count": 18,
      "outputs": [
        {
          "output_type": "stream",
          "name": "stderr",
          "text": [
            "WARNING:tensorflow:Layer lstm will not use cuDNN kernels since it doesn't meet the criteria. It will use a generic GPU kernel as fallback when running on GPU.\n",
            "WARNING:tensorflow:Layer lstm_1 will not use cuDNN kernels since it doesn't meet the criteria. It will use a generic GPU kernel as fallback when running on GPU.\n"
          ]
        }
      ]
    },
    {
      "cell_type": "code",
      "metadata": {
        "id": "vl454wu1C_sr"
      },
      "source": [
        "model1.compile(loss='binary_crossentropy', optimizer='adam', metrics=['accuracy'])"
      ],
      "execution_count": 19,
      "outputs": []
    },
    {
      "cell_type": "code",
      "metadata": {
        "id": "wvr6t9ivDryi",
        "colab": {
          "base_uri": "https://localhost:8080/"
        },
        "outputId": "515e7d9e-92bd-4cf9-94d3-19fb395d9f63"
      },
      "source": [
        "history1=model1.fit(train_LSTM_X, train_LSTM_y,epochs=100,batch_size=30000, validation_data=(val_LSTM_X, val_LSTM_y))"
      ],
      "execution_count": 20,
      "outputs": [
        {
          "output_type": "stream",
          "name": "stdout",
          "text": [
            "Epoch 1/100\n",
            "14/14 [==============================] - 12s 73ms/step - loss: 0.6732 - accuracy: 0.8299 - val_loss: 0.6470 - val_accuracy: 0.8878\n",
            "Epoch 2/100\n",
            "14/14 [==============================] - 0s 30ms/step - loss: 0.6232 - accuracy: 0.8808 - val_loss: 0.5767 - val_accuracy: 0.8907\n",
            "Epoch 3/100\n",
            "14/14 [==============================] - 0s 29ms/step - loss: 0.5429 - accuracy: 0.8809 - val_loss: 0.4790 - val_accuracy: 0.8890\n",
            "Epoch 4/100\n",
            "14/14 [==============================] - 0s 26ms/step - loss: 0.4480 - accuracy: 0.8814 - val_loss: 0.3864 - val_accuracy: 0.8946\n",
            "Epoch 5/100\n",
            "14/14 [==============================] - 0s 27ms/step - loss: 0.3673 - accuracy: 0.8892 - val_loss: 0.3175 - val_accuracy: 0.9043\n",
            "Epoch 6/100\n",
            "14/14 [==============================] - 0s 28ms/step - loss: 0.3127 - accuracy: 0.8982 - val_loss: 0.2762 - val_accuracy: 0.9091\n",
            "Epoch 7/100\n",
            "14/14 [==============================] - 0s 28ms/step - loss: 0.2807 - accuracy: 0.9051 - val_loss: 0.2510 - val_accuracy: 0.9123\n",
            "Epoch 8/100\n",
            "14/14 [==============================] - 0s 28ms/step - loss: 0.2602 - accuracy: 0.9099 - val_loss: 0.2320 - val_accuracy: 0.9131\n",
            "Epoch 9/100\n",
            "14/14 [==============================] - 0s 29ms/step - loss: 0.2456 - accuracy: 0.9132 - val_loss: 0.2177 - val_accuracy: 0.9154\n",
            "Epoch 10/100\n",
            "14/14 [==============================] - 1s 48ms/step - loss: 0.2357 - accuracy: 0.9160 - val_loss: 0.2069 - val_accuracy: 0.9226\n",
            "Epoch 11/100\n",
            "14/14 [==============================] - 1s 48ms/step - loss: 0.2284 - accuracy: 0.9179 - val_loss: 0.1990 - val_accuracy: 0.9272\n",
            "Epoch 12/100\n",
            "14/14 [==============================] - 1s 48ms/step - loss: 0.2230 - accuracy: 0.9193 - val_loss: 0.1931 - val_accuracy: 0.9288\n",
            "Epoch 13/100\n",
            "14/14 [==============================] - 1s 53ms/step - loss: 0.2198 - accuracy: 0.9196 - val_loss: 0.1890 - val_accuracy: 0.9300\n",
            "Epoch 14/100\n",
            "14/14 [==============================] - 1s 50ms/step - loss: 0.2164 - accuracy: 0.9202 - val_loss: 0.1864 - val_accuracy: 0.9308\n",
            "Epoch 15/100\n",
            "14/14 [==============================] - 1s 38ms/step - loss: 0.2139 - accuracy: 0.9207 - val_loss: 0.1844 - val_accuracy: 0.9313\n",
            "Epoch 16/100\n",
            "14/14 [==============================] - 0s 27ms/step - loss: 0.2121 - accuracy: 0.9210 - val_loss: 0.1829 - val_accuracy: 0.9320\n",
            "Epoch 17/100\n",
            "14/14 [==============================] - 0s 27ms/step - loss: 0.2109 - accuracy: 0.9212 - val_loss: 0.1815 - val_accuracy: 0.9324\n",
            "Epoch 18/100\n",
            "14/14 [==============================] - 0s 28ms/step - loss: 0.2088 - accuracy: 0.9218 - val_loss: 0.1805 - val_accuracy: 0.9327\n",
            "Epoch 19/100\n",
            "14/14 [==============================] - 0s 26ms/step - loss: 0.2071 - accuracy: 0.9224 - val_loss: 0.1796 - val_accuracy: 0.9332\n",
            "Epoch 20/100\n",
            "14/14 [==============================] - 0s 28ms/step - loss: 0.2055 - accuracy: 0.9231 - val_loss: 0.1784 - val_accuracy: 0.9339\n",
            "Epoch 21/100\n",
            "14/14 [==============================] - 0s 27ms/step - loss: 0.2039 - accuracy: 0.9238 - val_loss: 0.1775 - val_accuracy: 0.9344\n",
            "Epoch 22/100\n",
            "14/14 [==============================] - 0s 27ms/step - loss: 0.2029 - accuracy: 0.9241 - val_loss: 0.1765 - val_accuracy: 0.9348\n",
            "Epoch 23/100\n",
            "14/14 [==============================] - 0s 28ms/step - loss: 0.2014 - accuracy: 0.9247 - val_loss: 0.1755 - val_accuracy: 0.9351\n",
            "Epoch 24/100\n",
            "14/14 [==============================] - 0s 30ms/step - loss: 0.2007 - accuracy: 0.9249 - val_loss: 0.1748 - val_accuracy: 0.9351\n",
            "Epoch 25/100\n",
            "14/14 [==============================] - 0s 28ms/step - loss: 0.1989 - accuracy: 0.9255 - val_loss: 0.1740 - val_accuracy: 0.9352\n",
            "Epoch 26/100\n",
            "14/14 [==============================] - 0s 27ms/step - loss: 0.1981 - accuracy: 0.9259 - val_loss: 0.1732 - val_accuracy: 0.9353\n",
            "Epoch 27/100\n",
            "14/14 [==============================] - 0s 29ms/step - loss: 0.1963 - accuracy: 0.9264 - val_loss: 0.1724 - val_accuracy: 0.9355\n",
            "Epoch 28/100\n",
            "14/14 [==============================] - 0s 30ms/step - loss: 0.1960 - accuracy: 0.9268 - val_loss: 0.1718 - val_accuracy: 0.9357\n",
            "Epoch 29/100\n",
            "14/14 [==============================] - 0s 28ms/step - loss: 0.1948 - accuracy: 0.9272 - val_loss: 0.1714 - val_accuracy: 0.9357\n",
            "Epoch 30/100\n",
            "14/14 [==============================] - 0s 31ms/step - loss: 0.1940 - accuracy: 0.9277 - val_loss: 0.1708 - val_accuracy: 0.9360\n",
            "Epoch 31/100\n",
            "14/14 [==============================] - 0s 28ms/step - loss: 0.1933 - accuracy: 0.9278 - val_loss: 0.1704 - val_accuracy: 0.9361\n",
            "Epoch 32/100\n",
            "14/14 [==============================] - 0s 29ms/step - loss: 0.1924 - accuracy: 0.9282 - val_loss: 0.1700 - val_accuracy: 0.9362\n",
            "Epoch 33/100\n",
            "14/14 [==============================] - 0s 33ms/step - loss: 0.1917 - accuracy: 0.9283 - val_loss: 0.1694 - val_accuracy: 0.9363\n",
            "Epoch 34/100\n",
            "14/14 [==============================] - 0s 30ms/step - loss: 0.1914 - accuracy: 0.9284 - val_loss: 0.1690 - val_accuracy: 0.9364\n",
            "Epoch 35/100\n",
            "14/14 [==============================] - 0s 28ms/step - loss: 0.1906 - accuracy: 0.9289 - val_loss: 0.1689 - val_accuracy: 0.9364\n",
            "Epoch 36/100\n",
            "14/14 [==============================] - 0s 28ms/step - loss: 0.1902 - accuracy: 0.9292 - val_loss: 0.1684 - val_accuracy: 0.9366\n",
            "Epoch 37/100\n",
            "14/14 [==============================] - 0s 27ms/step - loss: 0.1899 - accuracy: 0.9292 - val_loss: 0.1683 - val_accuracy: 0.9366\n",
            "Epoch 38/100\n",
            "14/14 [==============================] - 0s 31ms/step - loss: 0.1889 - accuracy: 0.9298 - val_loss: 0.1680 - val_accuracy: 0.9367\n",
            "Epoch 39/100\n",
            "14/14 [==============================] - 0s 26ms/step - loss: 0.1889 - accuracy: 0.9297 - val_loss: 0.1678 - val_accuracy: 0.9367\n",
            "Epoch 40/100\n",
            "14/14 [==============================] - 1s 42ms/step - loss: 0.1889 - accuracy: 0.9295 - val_loss: 0.1677 - val_accuracy: 0.9367\n",
            "Epoch 41/100\n",
            "14/14 [==============================] - 1s 50ms/step - loss: 0.1881 - accuracy: 0.9302 - val_loss: 0.1673 - val_accuracy: 0.9368\n",
            "Epoch 42/100\n",
            "14/14 [==============================] - 1s 51ms/step - loss: 0.1877 - accuracy: 0.9299 - val_loss: 0.1673 - val_accuracy: 0.9368\n",
            "Epoch 43/100\n",
            "14/14 [==============================] - 1s 51ms/step - loss: 0.1873 - accuracy: 0.9304 - val_loss: 0.1669 - val_accuracy: 0.9369\n",
            "Epoch 44/100\n",
            "14/14 [==============================] - 1s 49ms/step - loss: 0.1870 - accuracy: 0.9303 - val_loss: 0.1669 - val_accuracy: 0.9369\n",
            "Epoch 45/100\n",
            "14/14 [==============================] - 1s 46ms/step - loss: 0.1865 - accuracy: 0.9306 - val_loss: 0.1667 - val_accuracy: 0.9369\n",
            "Epoch 46/100\n",
            "14/14 [==============================] - 0s 27ms/step - loss: 0.1865 - accuracy: 0.9308 - val_loss: 0.1666 - val_accuracy: 0.9370\n",
            "Epoch 47/100\n",
            "14/14 [==============================] - 0s 30ms/step - loss: 0.1863 - accuracy: 0.9307 - val_loss: 0.1667 - val_accuracy: 0.9369\n",
            "Epoch 48/100\n",
            "14/14 [==============================] - 0s 27ms/step - loss: 0.1864 - accuracy: 0.9308 - val_loss: 0.1662 - val_accuracy: 0.9370\n",
            "Epoch 49/100\n",
            "14/14 [==============================] - 0s 28ms/step - loss: 0.1862 - accuracy: 0.9305 - val_loss: 0.1664 - val_accuracy: 0.9370\n",
            "Epoch 50/100\n",
            "14/14 [==============================] - 0s 26ms/step - loss: 0.1858 - accuracy: 0.9305 - val_loss: 0.1663 - val_accuracy: 0.9370\n",
            "Epoch 51/100\n",
            "14/14 [==============================] - 0s 28ms/step - loss: 0.1860 - accuracy: 0.9306 - val_loss: 0.1663 - val_accuracy: 0.9370\n",
            "Epoch 52/100\n",
            "14/14 [==============================] - 0s 31ms/step - loss: 0.1850 - accuracy: 0.9310 - val_loss: 0.1659 - val_accuracy: 0.9370\n",
            "Epoch 53/100\n",
            "14/14 [==============================] - 0s 27ms/step - loss: 0.1847 - accuracy: 0.9311 - val_loss: 0.1658 - val_accuracy: 0.9371\n",
            "Epoch 54/100\n",
            "14/14 [==============================] - 0s 28ms/step - loss: 0.1849 - accuracy: 0.9311 - val_loss: 0.1658 - val_accuracy: 0.9371\n",
            "Epoch 55/100\n",
            "14/14 [==============================] - 0s 30ms/step - loss: 0.1848 - accuracy: 0.9308 - val_loss: 0.1656 - val_accuracy: 0.9371\n",
            "Epoch 56/100\n",
            "14/14 [==============================] - 0s 28ms/step - loss: 0.1845 - accuracy: 0.9312 - val_loss: 0.1656 - val_accuracy: 0.9371\n",
            "Epoch 57/100\n",
            "14/14 [==============================] - 0s 27ms/step - loss: 0.1837 - accuracy: 0.9314 - val_loss: 0.1653 - val_accuracy: 0.9371\n",
            "Epoch 58/100\n",
            "14/14 [==============================] - 0s 26ms/step - loss: 0.1843 - accuracy: 0.9311 - val_loss: 0.1654 - val_accuracy: 0.9371\n",
            "Epoch 59/100\n",
            "14/14 [==============================] - 0s 27ms/step - loss: 0.1838 - accuracy: 0.9315 - val_loss: 0.1653 - val_accuracy: 0.9371\n",
            "Epoch 60/100\n",
            "14/14 [==============================] - 0s 29ms/step - loss: 0.1842 - accuracy: 0.9312 - val_loss: 0.1654 - val_accuracy: 0.9370\n",
            "Epoch 61/100\n",
            "14/14 [==============================] - 0s 29ms/step - loss: 0.1835 - accuracy: 0.9315 - val_loss: 0.1651 - val_accuracy: 0.9371\n",
            "Epoch 62/100\n",
            "14/14 [==============================] - 0s 26ms/step - loss: 0.1837 - accuracy: 0.9317 - val_loss: 0.1654 - val_accuracy: 0.9369\n",
            "Epoch 63/100\n",
            "14/14 [==============================] - 0s 30ms/step - loss: 0.1839 - accuracy: 0.9314 - val_loss: 0.1649 - val_accuracy: 0.9371\n",
            "Epoch 64/100\n",
            "14/14 [==============================] - 0s 29ms/step - loss: 0.1827 - accuracy: 0.9317 - val_loss: 0.1649 - val_accuracy: 0.9371\n",
            "Epoch 65/100\n",
            "14/14 [==============================] - 0s 30ms/step - loss: 0.1831 - accuracy: 0.9317 - val_loss: 0.1648 - val_accuracy: 0.9371\n",
            "Epoch 66/100\n",
            "14/14 [==============================] - 0s 29ms/step - loss: 0.1827 - accuracy: 0.9316 - val_loss: 0.1650 - val_accuracy: 0.9369\n",
            "Epoch 67/100\n",
            "14/14 [==============================] - 0s 31ms/step - loss: 0.1829 - accuracy: 0.9317 - val_loss: 0.1648 - val_accuracy: 0.9370\n",
            "Epoch 68/100\n",
            "14/14 [==============================] - 1s 40ms/step - loss: 0.1823 - accuracy: 0.9318 - val_loss: 0.1646 - val_accuracy: 0.9370\n",
            "Epoch 69/100\n",
            "14/14 [==============================] - 0s 32ms/step - loss: 0.1825 - accuracy: 0.9318 - val_loss: 0.1646 - val_accuracy: 0.9370\n",
            "Epoch 70/100\n",
            "14/14 [==============================] - 1s 41ms/step - loss: 0.1827 - accuracy: 0.9320 - val_loss: 0.1643 - val_accuracy: 0.9370\n",
            "Epoch 71/100\n",
            "14/14 [==============================] - 1s 49ms/step - loss: 0.1822 - accuracy: 0.9317 - val_loss: 0.1642 - val_accuracy: 0.9371\n",
            "Epoch 72/100\n",
            "14/14 [==============================] - 1s 56ms/step - loss: 0.1820 - accuracy: 0.9319 - val_loss: 0.1642 - val_accuracy: 0.9370\n",
            "Epoch 73/100\n",
            "14/14 [==============================] - 1s 54ms/step - loss: 0.1824 - accuracy: 0.9317 - val_loss: 0.1639 - val_accuracy: 0.9371\n",
            "Epoch 74/100\n",
            "14/14 [==============================] - 1s 49ms/step - loss: 0.1822 - accuracy: 0.9318 - val_loss: 0.1642 - val_accuracy: 0.9370\n",
            "Epoch 75/100\n",
            "14/14 [==============================] - 1s 45ms/step - loss: 0.1818 - accuracy: 0.9316 - val_loss: 0.1639 - val_accuracy: 0.9370\n",
            "Epoch 76/100\n",
            "14/14 [==============================] - 0s 27ms/step - loss: 0.1817 - accuracy: 0.9317 - val_loss: 0.1640 - val_accuracy: 0.9371\n",
            "Epoch 77/100\n",
            "14/14 [==============================] - 0s 27ms/step - loss: 0.1816 - accuracy: 0.9319 - val_loss: 0.1638 - val_accuracy: 0.9370\n",
            "Epoch 78/100\n",
            "14/14 [==============================] - 0s 26ms/step - loss: 0.1811 - accuracy: 0.9321 - val_loss: 0.1636 - val_accuracy: 0.9371\n",
            "Epoch 79/100\n",
            "14/14 [==============================] - 0s 26ms/step - loss: 0.1813 - accuracy: 0.9318 - val_loss: 0.1636 - val_accuracy: 0.9371\n",
            "Epoch 80/100\n",
            "14/14 [==============================] - 0s 28ms/step - loss: 0.1813 - accuracy: 0.9322 - val_loss: 0.1637 - val_accuracy: 0.9371\n",
            "Epoch 81/100\n",
            "14/14 [==============================] - 0s 27ms/step - loss: 0.1810 - accuracy: 0.9317 - val_loss: 0.1635 - val_accuracy: 0.9371\n",
            "Epoch 82/100\n",
            "14/14 [==============================] - 1s 64ms/step - loss: 0.1809 - accuracy: 0.9320 - val_loss: 0.1633 - val_accuracy: 0.9371\n",
            "Epoch 83/100\n",
            "14/14 [==============================] - 0s 31ms/step - loss: 0.1808 - accuracy: 0.9321 - val_loss: 0.1633 - val_accuracy: 0.9371\n",
            "Epoch 84/100\n",
            "14/14 [==============================] - 0s 26ms/step - loss: 0.1807 - accuracy: 0.9322 - val_loss: 0.1632 - val_accuracy: 0.9371\n",
            "Epoch 85/100\n",
            "14/14 [==============================] - 0s 27ms/step - loss: 0.1808 - accuracy: 0.9320 - val_loss: 0.1631 - val_accuracy: 0.9371\n",
            "Epoch 86/100\n",
            "14/14 [==============================] - 0s 28ms/step - loss: 0.1800 - accuracy: 0.9323 - val_loss: 0.1628 - val_accuracy: 0.9371\n",
            "Epoch 87/100\n",
            "14/14 [==============================] - 0s 27ms/step - loss: 0.1802 - accuracy: 0.9319 - val_loss: 0.1629 - val_accuracy: 0.9371\n",
            "Epoch 88/100\n",
            "14/14 [==============================] - 0s 29ms/step - loss: 0.1794 - accuracy: 0.9323 - val_loss: 0.1627 - val_accuracy: 0.9372\n",
            "Epoch 89/100\n",
            "14/14 [==============================] - 0s 26ms/step - loss: 0.1808 - accuracy: 0.9320 - val_loss: 0.1624 - val_accuracy: 0.9372\n",
            "Epoch 90/100\n",
            "14/14 [==============================] - 0s 28ms/step - loss: 0.1795 - accuracy: 0.9324 - val_loss: 0.1622 - val_accuracy: 0.9373\n",
            "Epoch 91/100\n",
            "14/14 [==============================] - 0s 28ms/step - loss: 0.1796 - accuracy: 0.9322 - val_loss: 0.1625 - val_accuracy: 0.9372\n",
            "Epoch 92/100\n",
            "14/14 [==============================] - 0s 27ms/step - loss: 0.1795 - accuracy: 0.9323 - val_loss: 0.1619 - val_accuracy: 0.9373\n",
            "Epoch 93/100\n",
            "14/14 [==============================] - 0s 28ms/step - loss: 0.1795 - accuracy: 0.9321 - val_loss: 0.1624 - val_accuracy: 0.9372\n",
            "Epoch 94/100\n",
            "14/14 [==============================] - 0s 27ms/step - loss: 0.1797 - accuracy: 0.9323 - val_loss: 0.1619 - val_accuracy: 0.9373\n",
            "Epoch 95/100\n",
            "14/14 [==============================] - 0s 28ms/step - loss: 0.1796 - accuracy: 0.9323 - val_loss: 0.1617 - val_accuracy: 0.9373\n",
            "Epoch 96/100\n",
            "14/14 [==============================] - 0s 28ms/step - loss: 0.1790 - accuracy: 0.9322 - val_loss: 0.1620 - val_accuracy: 0.9372\n",
            "Epoch 97/100\n",
            "14/14 [==============================] - 0s 28ms/step - loss: 0.1790 - accuracy: 0.9324 - val_loss: 0.1616 - val_accuracy: 0.9374\n",
            "Epoch 98/100\n",
            "14/14 [==============================] - 0s 28ms/step - loss: 0.1784 - accuracy: 0.9324 - val_loss: 0.1610 - val_accuracy: 0.9375\n",
            "Epoch 99/100\n",
            "14/14 [==============================] - 0s 28ms/step - loss: 0.1786 - accuracy: 0.9322 - val_loss: 0.1617 - val_accuracy: 0.9374\n",
            "Epoch 100/100\n",
            "14/14 [==============================] - 1s 53ms/step - loss: 0.1790 - accuracy: 0.9322 - val_loss: 0.1611 - val_accuracy: 0.9375\n"
          ]
        }
      ]
    },
    {
      "cell_type": "code",
      "metadata": {
        "colab": {
          "base_uri": "https://localhost:8080/"
        },
        "id": "FL8VzJkJTN_d",
        "outputId": "2effd463-6e8b-494f-90ec-bc05533def4c"
      },
      "source": [
        "# save Attention model and architecture to single file\n",
        "model1.save('Save_Model_Attention.h5')\n",
        "print(\"Saved model to disk\")"
      ],
      "execution_count": 21,
      "outputs": [
        {
          "output_type": "stream",
          "name": "stdout",
          "text": [
            "Saved model to disk\n"
          ]
        }
      ]
    },
    {
      "cell_type": "code",
      "metadata": {
        "id": "cjmUbnlYUGnb"
      },
      "source": [
        "# # load and evaluate a saved model\n",
        "# from numpy import loadtxt\n",
        "# from keras.models import load_model\n",
        "# from keras.layers import Layer\n",
        "# import keras.backend as K\n",
        "# from numpy import loadtxt\n",
        "# from keras.models import load_model\n",
        "# from keras.utils import custom_object_scope\n",
        " \n",
        "# # load model\n",
        "# model1 = load_model('Save_Model_Attention.h5')\n",
        "# # summarize model.\n",
        "# model1.summary()"
      ],
      "execution_count": 1,
      "outputs": []
    },
    {
      "cell_type": "code",
      "metadata": {
        "id": "pynzSyCyUgYk"
      },
      "source": [
        "# # evaluate the model\n",
        "# _, train_acc = model1.evaluate(train_LSTM_X, train_LSTM_y, verbose=0)\n",
        "# _, test_acc = model1.evaluate(val_LSTM_X, val_LSTM_y, verbose=0)\n",
        "# print('Train: %.3f, Test: %.3f' % (train_acc, test_acc))"
      ],
      "execution_count": 2,
      "outputs": []
    },
    {
      "cell_type": "code",
      "metadata": {
        "id": "FowJ3_QvDsD6"
      },
      "source": [
        "# predict probabilities for test set\n",
        "# yhat_probs1 = model1.predict(val_LSTM_X, verbose=0)\n",
        "# # reduce to 1d array\n",
        "# yhat_probs1 = yhat_probs1[:, 0]"
      ],
      "execution_count": 3,
      "outputs": []
    },
    {
      "cell_type": "code",
      "metadata": {
        "id": "91TI5B2sESst"
      },
      "source": [
        "# demonstration of calculating metrics for a neural network model using sklearn\n",
        "# from sklearn.metrics import accuracy_score\n",
        "# from sklearn.metrics import precision_score\n",
        "# from sklearn.metrics import recall_score\n",
        "# from sklearn.metrics import confusion_matrix\n",
        "\n",
        "# # accuracy: (tp + tn) / (p + n)\n",
        "# accuracy = accuracy_score(val_LSTM_y, yhat_probs1)\n",
        "# print('Accuracy: %f' % accuracy)\n",
        "# # precision tp / (tp + fp)\n",
        "# precision = precision_score(val_LSTM_y, yhat_probs1)\n",
        "# print('Precision: %f' % precision)\n",
        "# # recall: tp / (tp + fn)\n",
        "# recall = recall_score(val_LSTM_y, yhat_probs1)\n",
        "# print('Recall: %f' % recall)\n"
      ],
      "execution_count": 4,
      "outputs": []
    },
    {
      "cell_type": "code",
      "metadata": {
        "id": "GaFfUn6xEpMn"
      },
      "source": [
        "# cm1 = confusion_matrix(y_true=val_LSTM_y, y_pred=yhat_probs1)"
      ],
      "execution_count": null,
      "outputs": []
    },
    {
      "cell_type": "code",
      "metadata": {
        "colab": {
          "base_uri": "https://localhost:8080/",
          "height": 362
        },
        "id": "ZFXwEl17ES7A",
        "outputId": "92daea33-c2f5-4354-ee72-eb9e4759e176"
      },
      "source": [
        "plot_confusion_matrix(cm=cm1, classes=labels, title='LSTM-Attention', normalize=False)"
      ],
      "execution_count": null,
      "outputs": [
        {
          "output_type": "stream",
          "text": [
            "Confusion matrix, without normalization\n",
            "[[84296   879]\n",
            " [ 9297 76117]]\n"
          ],
          "name": "stdout"
        },
        {
          "output_type": "display_data",
          "data": {
            "image/png": "[encoded data removed]",
            "text/plain": [
              "<Figure size 432x288 with 2 Axes>"
            ]
          },
          "metadata": {
            "tags": [],
            "needs_background": "light"
          }
        }
      ]
    }
  ]
}